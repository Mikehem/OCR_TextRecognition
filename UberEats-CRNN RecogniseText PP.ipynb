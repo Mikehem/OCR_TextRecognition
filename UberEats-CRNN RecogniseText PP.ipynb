{
 "cells": [
  {
   "cell_type": "markdown",
   "metadata": {},
   "source": [
    "# UberEats - Reconise Text using CRNN pre-built pytorch model"
   ]
  },
  {
   "cell_type": "markdown",
   "metadata": {},
   "source": [
    "Download the pre built model and place in models folder "
   ]
  },
  {
   "cell_type": "code",
   "execution_count": 1,
   "metadata": {},
   "outputs": [],
   "source": [
    "#!wget https://www.dropbox.com/s/l0vo83hmvv2aipn/crnn.pth"
   ]
  },
  {
   "cell_type": "markdown",
   "metadata": {},
   "source": [
    "### Imports"
   ]
  },
  {
   "cell_type": "code",
   "execution_count": 9,
   "metadata": {},
   "outputs": [],
   "source": [
    "import crnn.utils as utils \n",
    "import crnn.dataset as dataset\n",
    "import torch\n",
    "import string\n",
    "from torch.autograd import Variable\n",
    "from PIL import Image\n",
    "import crnn.models.crnn as crnn\n",
    "import glob\n",
    "from IPython.core import display"
   ]
  },
  {
   "cell_type": "code",
   "execution_count": 10,
   "metadata": {},
   "outputs": [
    {
     "name": "stdout",
     "output_type": "stream",
     "text": [
      "Character List:  0123456789abcdefghijklmnopqrstuvwxyz\n"
     ]
    }
   ],
   "source": [
    "model_path = '/home/micdsouz/wrkdir/ctpn/src/UberMenu/models/crnn.pth'\n",
    "# Global Variables\n",
    "alphabet = '0123456789abcdefghijklmnopqrstuvwxyz'\n",
    "print(\"Character List: \", alphabet)"
   ]
  },
  {
   "cell_type": "code",
   "execution_count": 11,
   "metadata": {},
   "outputs": [
    {
     "name": "stdout",
     "output_type": "stream",
     "text": [
      "loading pretrained model from /home/micdsouz/wrkdir/ctpn/src/UberMenu/models/crnn.pth\n"
     ]
    }
   ],
   "source": [
    "model = crnn.CRNN(32, 1, 37, 256, 1)\n",
    "print('loading pretrained model from %s' % model_path)"
   ]
  },
  {
   "cell_type": "code",
   "execution_count": 12,
   "metadata": {},
   "outputs": [
    {
     "data": {
      "text/plain": [
       "<All keys matched successfully>"
      ]
     },
     "execution_count": 12,
     "metadata": {},
     "output_type": "execute_result"
    }
   ],
   "source": [
    "model.load_state_dict(torch.load(model_path))"
   ]
  },
  {
   "cell_type": "code",
   "execution_count": 13,
   "metadata": {},
   "outputs": [],
   "source": [
    "converter = utils.strLabelConverter(alphabet)\n",
    "transformer = dataset.resizeNormalize((100, 32))"
   ]
  },
  {
   "cell_type": "code",
   "execution_count": 14,
   "metadata": {},
   "outputs": [],
   "source": [
    "def extract_text(img_path):\n",
    "    image = Image.open(img_path).convert('L')\n",
    "    image = transformer(image)\n",
    "    image = image.view(1, *image.size())\n",
    "    image = Variable(image)\n",
    "    model.eval()\n",
    "    preds = model(image)\n",
    "    _, preds = preds.max(2)\n",
    "    preds = preds.transpose(1, 0).contiguous().view(-1)\n",
    "    preds_size = Variable(torch.IntTensor([preds.size(0)]))\n",
    "    raw_pred = converter.decode(preds.data, preds_size.data, raw=True)\n",
    "    sim_pred = converter.decode(preds.data, preds_size.data, raw=False)\n",
    "    display.display(display.Image(img_path))\n",
    "    print('%-20s => %-20s' % (raw_pred, sim_pred))\n",
    "    return raw_pred, sim_pred"
   ]
  },
  {
   "cell_type": "code",
   "execution_count": 15,
   "metadata": {},
   "outputs": [
    {
     "data": {
      "image/png": "[encoded data removed]",
      "text/plain": [
       "<IPython.core.display.Image object>"
      ]
     },
     "metadata": {},
     "output_type": "display_data"
    },
    {
     "name": "stdout",
     "output_type": "stream",
     "text": [
      "b----a--s-t-o--n-c-i-t-o-- => bastoncito          \n"
     ]
    },
    {
     "data": {
      "text/plain": [
       "('b----a--s-t-o--n-c-i-t-o--', 'bastoncito')"
      ]
     },
     "execution_count": 15,
     "metadata": {},
     "output_type": "execute_result"
    }
   ],
   "source": [
    "extract_text('/home/micdsouz/wrkdir/ctpn/src/UberMenu/data/test/1.png')"
   ]
  },
  {
   "cell_type": "code",
   "execution_count": null,
   "metadata": {},
   "outputs": [],
   "source": []
  }
 ],
 "metadata": {
  "kernelspec": {
   "display_name": "ctpn",
   "language": "python",
   "name": "ctpn"
  },
  "language_info": {
   "codemirror_mode": {
    "name": "ipython",
    "version": 3
   },
   "file_extension": ".py",
   "mimetype": "text/x-python",
   "name": "python",
   "nbconvert_exporter": "python",
   "pygments_lexer": "ipython3",
   "version": "3.6.7"
  }
 },
 "nbformat": 4,
 "nbformat_minor": 4
}
