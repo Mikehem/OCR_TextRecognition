{
 "cells": [
  {
   "cell_type": "markdown",
   "metadata": {},
   "source": [
    "# UberEats - CRNN Text Recognition using TF model"
   ]
  },
  {
   "cell_type": "code",
   "execution_count": 11,
   "metadata": {},
   "outputs": [],
   "source": [
    "# Imports\n",
    "from keras.models import load_model\n",
    "import keras.backend as K\n",
    "import string\n",
    "from IPython.core import display\n",
    "import cv2\n",
    "import numpy as np"
   ]
  },
  {
   "cell_type": "code",
   "execution_count": 2,
   "metadata": {},
   "outputs": [],
   "source": [
    "# Global Variables\n",
    "modelfilepath=\"models/best_model.hdf5\""
   ]
  },
  {
   "cell_type": "code",
   "execution_count": 12,
   "metadata": {},
   "outputs": [
    {
     "name": "stdout",
     "output_type": "stream",
     "text": [
      "Character List:  abcdefghijklmnopqrstuvwxyzABCDEFGHIJKLMNOPQRSTUVWXYZ0123456789\n"
     ]
    }
   ],
   "source": [
    "# Global Variables\n",
    "char_list = string.ascii_letters + string.digits\n",
    "print(\"Character List: \", char_list)"
   ]
  },
  {
   "cell_type": "code",
   "execution_count": 3,
   "metadata": {},
   "outputs": [
    {
     "name": "stderr",
     "output_type": "stream",
     "text": [
      "/home/micdsouz/wrkdir/ctpn/lib/python3.6/site-packages/keras/engine/saving.py:292: UserWarning: No training configuration found in save file: the model was *not* compiled. Compile it manually.\n",
      "  warnings.warn('No training configuration found in save file: '\n"
     ]
    }
   ],
   "source": [
    "# load the saved best model weights\n",
    "act_model = load_model(modelfilepath)"
   ]
  },
  {
   "cell_type": "code",
   "execution_count": 4,
   "metadata": {},
   "outputs": [],
   "source": [
    "def preprocess_img(imgpath):\n",
    "    print(\"Preprocessing image: \", imgpath)\n",
    "    display.display(display.Image(imgpath))\n",
    "    # read input image and convert to grayscale\n",
    "    img = cv2.cvtColor(cv2.imread(imgpath), cv2.COLOR_BGR2GRAY)\n",
    "    # convert each image of shape (32, 128, 1)\n",
    "    w, h = img.shape\n",
    "\n",
    "    # Process the images to bring them to scale\n",
    "    if w < 32:\n",
    "        add_zeros = np.ones((32-w, h))*255\n",
    "        img = np.concatenate((img, add_zeros))\n",
    "    # endif\n",
    "                       \n",
    "    if h < 128:\n",
    "        add_zeros = np.ones((32, 128-h))*255\n",
    "        img = np.concatenate((img, add_zeros), axis=1)\n",
    "    # endif    \n",
    "\n",
    "    img = np.expand_dims(img , axis = 2)\n",
    "                       \n",
    "    # Normalise the image\n",
    "    img = img/255.\n",
    "    return img"
   ]
  },
  {
   "cell_type": "code",
   "execution_count": 14,
   "metadata": {},
   "outputs": [],
   "source": [
    "image_sample = \"data/test/1.png\""
   ]
  },
  {
   "cell_type": "code",
   "execution_count": 15,
   "metadata": {},
   "outputs": [
    {
     "name": "stdout",
     "output_type": "stream",
     "text": [
      "Preprocessing image:  data/test/1.png\n"
     ]
    },
    {
     "data": {
      "image/png": "[encoded data removed]",
      "text/plain": [
       "<IPython.core.display.Image object>"
      ]
     },
     "metadata": {},
     "output_type": "display_data"
    },
    {
     "data": {
      "text/plain": [
       "(32, 128, 1)"
      ]
     },
     "execution_count": 15,
     "metadata": {},
     "output_type": "execute_result"
    }
   ],
   "source": [
    "preprocessed_image = preprocess_img(image_sample)\n",
    "preprocessed_image.shape"
   ]
  },
  {
   "cell_type": "code",
   "execution_count": 16,
   "metadata": {},
   "outputs": [
    {
     "data": {
      "text/plain": [
       "(1, 32, 128, 1)"
      ]
     },
     "execution_count": 16,
     "metadata": {},
     "output_type": "execute_result"
    }
   ],
   "source": [
    "data = preprocessed_image.reshape(1,32,128,1)\n",
    "data.shape"
   ]
  },
  {
   "cell_type": "code",
   "execution_count": 17,
   "metadata": {},
   "outputs": [],
   "source": [
    "# predict outputs on validation images\n",
    "prediction = act_model.predict(data)"
   ]
  },
  {
   "cell_type": "code",
   "execution_count": 18,
   "metadata": {},
   "outputs": [],
   "source": [
    "# use CTC decoder\n",
    "out = K.get_value(K.ctc_decode(prediction, input_length=np.ones(prediction.shape[0])*prediction.shape[1],\n",
    "                         greedy=True)[0][0])"
   ]
  },
  {
   "cell_type": "code",
   "execution_count": 19,
   "metadata": {},
   "outputs": [
    {
     "name": "stdout",
     "output_type": "stream",
     "text": [
      "predicted text = Bastoncilo\n",
      "\n"
     ]
    }
   ],
   "source": [
    "# see the results\n",
    "i = 0\n",
    "for x in out:\n",
    "    print(\"predicted text = \", end = '')\n",
    "    for p in x:  \n",
    "        if int(p) != -1:\n",
    "            print(char_list[int(p)], end = '')       \n",
    "    print('\\n')\n",
    "    i+=1"
   ]
  },
  {
   "cell_type": "code",
   "execution_count": null,
   "metadata": {},
   "outputs": [],
   "source": []
  }
 ],
 "metadata": {
  "kernelspec": {
   "display_name": "ctpn",
   "language": "python",
   "name": "ctpn"
  },
  "language_info": {
   "codemirror_mode": {
    "name": "ipython",
    "version": 3
   },
   "file_extension": ".py",
   "mimetype": "text/x-python",
   "name": "python",
   "nbconvert_exporter": "python",
   "pygments_lexer": "ipython3",
   "version": "3.6.7"
  }
 },
 "nbformat": 4,
 "nbformat_minor": 4
}
